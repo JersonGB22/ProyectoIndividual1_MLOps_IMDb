{
 "cells": [
  {
   "attachments": {},
   "cell_type": "markdown",
   "metadata": {},
   "source": [
    "## Machine Learning"
   ]
  },
  {
   "attachments": {},
   "cell_type": "markdown",
   "metadata": {},
   "source": [
    "### Importación de las librerías necesarias"
   ]
  },
  {
   "cell_type": "code",
   "execution_count": 1,
   "metadata": {},
   "outputs": [],
   "source": [
    "import pandas as pd\n",
    "from sklearn.feature_extraction.text import CountVectorizer\n",
    "from sklearn.metrics.pairwise import cosine_similarity"
   ]
  },
  {
   "attachments": {},
   "cell_type": "markdown",
   "metadata": {},
   "source": [
    "Se utilizarán las librerías sklearn.feature_extraction.text y sklearn.metrics.pairwise para implementar un sistema de recomendación basado en filtrado de contenido en el que se compararán las similitudes entre diferentes elementos de un conjunto de datos. La librería CountVectorizer se utilizará para convertir los datos de texto en una matriz numérica, mientras que cosine_similarity se utilizará para calcular la similitud coseno entre los elementos de la matriz. Esto permitirá generar recomendaciones personalizadas basadas en los patrones de similitud de los datos de entrada."
   ]
  },
  {
   "attachments": {},
   "cell_type": "markdown",
   "metadata": {},
   "source": [
    "### Carga de datos"
   ]
  },
  {
   "cell_type": "code",
   "execution_count": 2,
   "metadata": {},
   "outputs": [
    {
     "data": {
      "text/html": [
       "<div>\n",
       "<style scoped>\n",
       "    .dataframe tbody tr th:only-of-type {\n",
       "        vertical-align: middle;\n",
       "    }\n",
       "\n",
       "    .dataframe tbody tr th {\n",
       "        vertical-align: top;\n",
       "    }\n",
       "\n",
       "    .dataframe thead th {\n",
       "        text-align: right;\n",
       "    }\n",
       "</style>\n",
       "<table border=\"1\" class=\"dataframe\">\n",
       "  <thead>\n",
       "    <tr style=\"text-align: right;\">\n",
       "      <th></th>\n",
       "      <th>title</th>\n",
       "      <th>label</th>\n",
       "    </tr>\n",
       "  </thead>\n",
       "  <tbody>\n",
       "    <tr>\n",
       "      <th>0</th>\n",
       "      <td>toy story</td>\n",
       "      <td>toy stori anim comedi famili led woodi andi to...</td>\n",
       "    </tr>\n",
       "    <tr>\n",
       "      <th>1</th>\n",
       "      <td>jumanji</td>\n",
       "      <td>jumanji adventur fantasi famili sibl judi pete...</td>\n",
       "    </tr>\n",
       "    <tr>\n",
       "      <th>2</th>\n",
       "      <td>grumpier old men</td>\n",
       "      <td>grumpier old men romanc comedi famili wed reig...</td>\n",
       "    </tr>\n",
       "    <tr>\n",
       "      <th>3</th>\n",
       "      <td>waiting to exhale</td>\n",
       "      <td>wait exhal comedi drama romanc cheat mistreat ...</td>\n",
       "    </tr>\n",
       "    <tr>\n",
       "      <th>4</th>\n",
       "      <td>father of the bride part ii</td>\n",
       "      <td>father bride part ii comedi just georg bank re...</td>\n",
       "    </tr>\n",
       "    <tr>\n",
       "      <th>...</th>\n",
       "      <td>...</td>\n",
       "      <td>...</td>\n",
       "    </tr>\n",
       "    <tr>\n",
       "      <th>45357</th>\n",
       "      <td>robin hood</td>\n",
       "      <td>robin hood drama action romanc yet anoth versi...</td>\n",
       "    </tr>\n",
       "    <tr>\n",
       "      <th>45358</th>\n",
       "      <td>century of birthing</td>\n",
       "      <td>centuri birth drama artist struggl finish work...</td>\n",
       "    </tr>\n",
       "    <tr>\n",
       "      <th>45359</th>\n",
       "      <td>betrayal</td>\n",
       "      <td>betray action drama thriller one hit goe wrong...</td>\n",
       "    </tr>\n",
       "    <tr>\n",
       "      <th>45360</th>\n",
       "      <td>satan triumphant</td>\n",
       "      <td>satan triumphant small town live two brother o...</td>\n",
       "    </tr>\n",
       "    <tr>\n",
       "      <th>45361</th>\n",
       "      <td>queerama</td>\n",
       "      <td>queerama 50 year decriminalis homosexu uk dire...</td>\n",
       "    </tr>\n",
       "  </tbody>\n",
       "</table>\n",
       "<p>45362 rows × 2 columns</p>\n",
       "</div>"
      ],
      "text/plain": [
       "                             title  \\\n",
       "0                        toy story   \n",
       "1                          jumanji   \n",
       "2                 grumpier old men   \n",
       "3                waiting to exhale   \n",
       "4      father of the bride part ii   \n",
       "...                            ...   \n",
       "45357                   robin hood   \n",
       "45358          century of birthing   \n",
       "45359                     betrayal   \n",
       "45360             satan triumphant   \n",
       "45361                     queerama   \n",
       "\n",
       "                                                   label  \n",
       "0      toy stori anim comedi famili led woodi andi to...  \n",
       "1      jumanji adventur fantasi famili sibl judi pete...  \n",
       "2      grumpier old men romanc comedi famili wed reig...  \n",
       "3      wait exhal comedi drama romanc cheat mistreat ...  \n",
       "4      father bride part ii comedi just georg bank re...  \n",
       "...                                                  ...  \n",
       "45357  robin hood drama action romanc yet anoth versi...  \n",
       "45358  centuri birth drama artist struggl finish work...  \n",
       "45359  betray action drama thriller one hit goe wrong...  \n",
       "45360  satan triumphant small town live two brother o...  \n",
       "45361  queerama 50 year decriminalis homosexu uk dire...  \n",
       "\n",
       "[45362 rows x 2 columns]"
      ]
     },
     "execution_count": 2,
     "metadata": {},
     "output_type": "execute_result"
    }
   ],
   "source": [
    "df=pd.read_csv(r\"https://raw.githubusercontent.com/JersonGB22/ProyectoIndividual1_Henry/main/Datasets/ML_movie_transformation.csv\")\n",
    "df"
   ]
  },
  {
   "attachments": {},
   "cell_type": "markdown",
   "metadata": {},
   "source": [
    "### Matriz de Caracaterísticas"
   ]
  },
  {
   "cell_type": "code",
   "execution_count": 3,
   "metadata": {},
   "outputs": [
    {
     "name": "stdout",
     "output_type": "stream",
     "text": [
      "Número de Palabras:  161\n"
     ]
    },
    {
     "data": {
      "text/plain": [
       "'parent children drama comedi romanc foreign komedi o rodičích dětech chce navázat na nejlepší tradic české filmové komedi vtipné dialog výjimečné herecké výkoni humor spojující diváki napříč generacemi příběh filmu vychází ze zdánlivě banální situac syn david novotný jde na procházku se svým otcem josef somr syn je zralý čtyřicátník žije spokojeně se svou přítelkyní otci je pře sedmdesát je bývalý vědecbiolog klasický intelektuál v dobrém slova smyslu zdánlivě jediné co tyto dva muže spojuj je že se jdou jednou za měsíc společně projít prahou nicméně jsou svázáni poutem čtyřiceti let společného života v brilantně vedeném dialogu se před námi odkrývají dějini dvacátého století všechni absurd s ním spojené odhalují se ta nejhlubší místa lidských vztahů odtajňují se staré resti trápení radosti na scéně se objeví vnuk o kterém syn neměl pře dvacet let ani tušení některé chybi se opakují znovu znovu soundsquar barrandov studio tv nova univers product partner (upp) agana kamkam open field pictur rwe product czech republ český'"
      ]
     },
     "execution_count": 3,
     "metadata": {},
     "output_type": "execute_result"
    }
   ],
   "source": [
    "# Visualización del registro con mayor cantidad de palabras\n",
    "word=df.label.str.split().str.len()\n",
    "print(\"Número de Palabras: \",word.max())\n",
    "df.label.iloc[word.idxmax()]"
   ]
  },
  {
   "cell_type": "code",
   "execution_count": 4,
   "metadata": {},
   "outputs": [
    {
     "name": "stdout",
     "output_type": "stream",
     "text": [
      "Número de Palabras:  1\n"
     ]
    },
    {
     "data": {
      "text/plain": [
       "'superprodukcja'"
      ]
     },
     "execution_count": 4,
     "metadata": {},
     "output_type": "execute_result"
    }
   ],
   "source": [
    "# Visualización del registro con menor cantidad de palabras\n",
    "print(\"Número de Palabras: \",word.min())\n",
    "df.label.iloc[word.idxmin()]"
   ]
  },
  {
   "cell_type": "code",
   "execution_count": 21,
   "metadata": {},
   "outputs": [],
   "source": [
    "###\n",
    "df2=df.head(20000)"
   ]
  },
  {
   "cell_type": "code",
   "execution_count": 22,
   "metadata": {},
   "outputs": [],
   "source": [
    "cv=CountVectorizer(max_features=300,stop_words=\"english\")\n",
    "vector=cv.fit_transform(df2.label).toarray()"
   ]
  },
  {
   "attachments": {},
   "cell_type": "markdown",
   "metadata": {},
   "source": [
    "* Al utilizar max_features=300, estoy seleccionando un número cercano al doble del máximo de palabras presentes en mis registros, que es de 161. Esta elección me permite capturar un rango más amplio de palabras relevantes en mis datos sin agregar un exceso de características irrelevantes. Al limitar el número de características a 300, puedo mantener un equilibrio entre la representatividad de las palabras seleccionadas y la eficiencia del modelo. Además, al eliminar las palabras comunes en inglés con stop_words=\"english\", estoy asegurando que las características restantes sean más significativas y relevantes para mi modelo, lo que puede mejorar la calidad de las predicciones y reducir el ruido en los resultados obtenidos."
   ]
  },
  {
   "cell_type": "code",
   "execution_count": 23,
   "metadata": {},
   "outputs": [
    {
     "name": "stdout",
     "output_type": "stream",
     "text": [
      "(20000, 300)\n"
     ]
    },
    {
     "data": {
      "text/plain": [
       "array([[0, 0, 0, ..., 0, 0, 0],\n",
       "       [0, 1, 0, ..., 0, 0, 0],\n",
       "       [0, 0, 0, ..., 0, 0, 0],\n",
       "       ...,\n",
       "       [0, 0, 0, ..., 0, 0, 0],\n",
       "       [0, 0, 0, ..., 0, 1, 0],\n",
       "       [2, 0, 0, ..., 0, 0, 0]], dtype=int64)"
      ]
     },
     "execution_count": 23,
     "metadata": {},
     "output_type": "execute_result"
    }
   ],
   "source": [
    "# Visualizando el array vector\n",
    "print(vector.shape)\n",
    "vector"
   ]
  },
  {
   "attachments": {},
   "cell_type": "markdown",
   "metadata": {},
   "source": [
    "### Matriz de Similitud"
   ]
  },
  {
   "cell_type": "code",
   "execution_count": 19,
   "metadata": {},
   "outputs": [],
   "source": [
    "similarity_score=cosine_similarity(vector)"
   ]
  },
  {
   "cell_type": "code",
   "execution_count": 20,
   "metadata": {},
   "outputs": [
    {
     "name": "stdout",
     "output_type": "stream",
     "text": [
      "(10000, 10000)\n"
     ]
    },
    {
     "data": {
      "text/plain": [
       "array([[1.        , 0.24618298, 0.30151134, ..., 0.19462474, 0.2956562 ,\n",
       "        0.30338994],\n",
       "       [0.24618298, 1.        , 0.22680461, ..., 0.24595493, 0.26688026,\n",
       "        0.3955774 ],\n",
       "       [0.30151134, 0.22680461, 1.        , ..., 0.30123204, 0.32686023,\n",
       "        0.186339  ],\n",
       "       ...,\n",
       "       [0.19462474, 0.24595493, 0.30123204, ..., 1.        , 0.25318484,\n",
       "        0.17320508],\n",
       "       [0.2956562 , 0.26688026, 0.32686023, ..., 0.25318484, 1.        ,\n",
       "        0.1754116 ],\n",
       "       [0.30338994, 0.3955774 , 0.186339  , ..., 0.17320508, 0.1754116 ,\n",
       "        1.        ]])"
      ]
     },
     "execution_count": 20,
     "metadata": {},
     "output_type": "execute_result"
    }
   ],
   "source": [
    "# Visualizando el array similarity_score\n",
    "print(similarity_score.shape)\n",
    "similarity_score"
   ]
  }
 ],
 "metadata": {
  "kernelspec": {
   "display_name": "Python 3",
   "language": "python",
   "name": "python3"
  },
  "language_info": {
   "codemirror_mode": {
    "name": "ipython",
    "version": 3
   },
   "file_extension": ".py",
   "mimetype": "text/x-python",
   "name": "python",
   "nbconvert_exporter": "python",
   "pygments_lexer": "ipython3",
   "version": "3.9.2"
  },
  "orig_nbformat": 4
 },
 "nbformat": 4,
 "nbformat_minor": 2
}
