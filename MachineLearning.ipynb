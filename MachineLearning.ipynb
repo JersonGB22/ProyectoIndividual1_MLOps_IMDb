{
 "cells": [
  {
   "attachments": {},
   "cell_type": "markdown",
   "metadata": {},
   "source": [
    "## Machine Learning"
   ]
  },
  {
   "attachments": {},
   "cell_type": "markdown",
   "metadata": {},
   "source": [
    "### Importación de las librerías necesarias"
   ]
  },
  {
   "cell_type": "code",
   "execution_count": 2,
   "metadata": {},
   "outputs": [],
   "source": [
    "import pandas as pd\n",
    "from sklearn.feature_extraction.text import CountVectorizer\n",
    "from sklearn.metrics.pairwise import cosine_similarity"
   ]
  },
  {
   "attachments": {},
   "cell_type": "markdown",
   "metadata": {},
   "source": [
    "Se utilizarán las librerías sklearn.feature_extraction.text y sklearn.metrics.pairwise para implementar un sistema de recomendación basado en filtrado de contenido en el que se compararán las similitudes entre diferentes elementos de un conjunto de datos. La librería CountVectorizer se utilizará para convertir los datos de texto en una matriz numérica, mientras que cosine_similarity se utilizará para calcular la similitud coseno entre los elementos de la matriz. Esto permitirá generar recomendaciones personalizadas basadas en los patrones de similitud de los datos de entrada."
   ]
  },
  {
   "attachments": {},
   "cell_type": "markdown",
   "metadata": {},
   "source": [
    "### Carga de datos"
   ]
  },
  {
   "cell_type": "code",
   "execution_count": 3,
   "metadata": {},
   "outputs": [
    {
     "data": {
      "text/html": [
       "<div>\n",
       "<style scoped>\n",
       "    .dataframe tbody tr th:only-of-type {\n",
       "        vertical-align: middle;\n",
       "    }\n",
       "\n",
       "    .dataframe tbody tr th {\n",
       "        vertical-align: top;\n",
       "    }\n",
       "\n",
       "    .dataframe thead th {\n",
       "        text-align: right;\n",
       "    }\n",
       "</style>\n",
       "<table border=\"1\" class=\"dataframe\">\n",
       "  <thead>\n",
       "    <tr style=\"text-align: right;\">\n",
       "      <th></th>\n",
       "      <th>title</th>\n",
       "      <th>label</th>\n",
       "    </tr>\n",
       "  </thead>\n",
       "  <tbody>\n",
       "    <tr>\n",
       "      <th>0</th>\n",
       "      <td>toy story</td>\n",
       "      <td>toy stori anim comedi famili led woodi andi to...</td>\n",
       "    </tr>\n",
       "    <tr>\n",
       "      <th>1</th>\n",
       "      <td>jumanji</td>\n",
       "      <td>jumanji adventur fantasi famili sibl judi pete...</td>\n",
       "    </tr>\n",
       "    <tr>\n",
       "      <th>2</th>\n",
       "      <td>grumpier old men</td>\n",
       "      <td>grumpier old men romanc comedi famili wed reig...</td>\n",
       "    </tr>\n",
       "    <tr>\n",
       "      <th>3</th>\n",
       "      <td>waiting to exhale</td>\n",
       "      <td>wait exhal comedi drama romanc cheat mistreat ...</td>\n",
       "    </tr>\n",
       "    <tr>\n",
       "      <th>4</th>\n",
       "      <td>father of the bride part ii</td>\n",
       "      <td>father bride part ii comedi just georg bank re...</td>\n",
       "    </tr>\n",
       "    <tr>\n",
       "      <th>...</th>\n",
       "      <td>...</td>\n",
       "      <td>...</td>\n",
       "    </tr>\n",
       "    <tr>\n",
       "      <th>21801</th>\n",
       "      <td>the sublet</td>\n",
       "      <td>sublet mysteri drama thriller horror sublet su...</td>\n",
       "    </tr>\n",
       "    <tr>\n",
       "      <th>21802</th>\n",
       "      <td>cadet kelly</td>\n",
       "      <td>cadet kelli comedi hyperact teenag kelli enrol...</td>\n",
       "    </tr>\n",
       "    <tr>\n",
       "      <th>21803</th>\n",
       "      <td>pooh's heffalump halloween movie</td>\n",
       "      <td>pooh heffalump halloween movi anim famili hall...</td>\n",
       "    </tr>\n",
       "    <tr>\n",
       "      <th>21804</th>\n",
       "      <td>mom</td>\n",
       "      <td>mom crime drama thriller bliss biolog teacher ...</td>\n",
       "    </tr>\n",
       "    <tr>\n",
       "      <th>21805</th>\n",
       "      <td>robin hood</td>\n",
       "      <td>robin hood drama action romanc yet anoth versi...</td>\n",
       "    </tr>\n",
       "  </tbody>\n",
       "</table>\n",
       "<p>21806 rows × 2 columns</p>\n",
       "</div>"
      ],
      "text/plain": [
       "                                  title  \\\n",
       "0                             toy story   \n",
       "1                               jumanji   \n",
       "2                      grumpier old men   \n",
       "3                     waiting to exhale   \n",
       "4           father of the bride part ii   \n",
       "...                                 ...   \n",
       "21801                        the sublet   \n",
       "21802                       cadet kelly   \n",
       "21803  pooh's heffalump halloween movie   \n",
       "21804                               mom   \n",
       "21805                        robin hood   \n",
       "\n",
       "                                                   label  \n",
       "0      toy stori anim comedi famili led woodi andi to...  \n",
       "1      jumanji adventur fantasi famili sibl judi pete...  \n",
       "2      grumpier old men romanc comedi famili wed reig...  \n",
       "3      wait exhal comedi drama romanc cheat mistreat ...  \n",
       "4      father bride part ii comedi just georg bank re...  \n",
       "...                                                  ...  \n",
       "21801  sublet mysteri drama thriller horror sublet su...  \n",
       "21802  cadet kelli comedi hyperact teenag kelli enrol...  \n",
       "21803  pooh heffalump halloween movi anim famili hall...  \n",
       "21804  mom crime drama thriller bliss biolog teacher ...  \n",
       "21805  robin hood drama action romanc yet anoth versi...  \n",
       "\n",
       "[21806 rows x 2 columns]"
      ]
     },
     "execution_count": 3,
     "metadata": {},
     "output_type": "execute_result"
    }
   ],
   "source": [
    "df=pd.read_csv(r\"https://raw.githubusercontent.com/JersonGB22/ProyectoIndividual1_Henry/main/Datasets/ML_movie_transformation.csv\")\n",
    "df"
   ]
  },
  {
   "attachments": {},
   "cell_type": "markdown",
   "metadata": {},
   "source": [
    "### Matriz de Caracaterísticas"
   ]
  },
  {
   "cell_type": "code",
   "execution_count": 4,
   "metadata": {},
   "outputs": [
    {
     "name": "stdout",
     "output_type": "stream",
     "text": [
      "Número de Palabras:  160\n"
     ]
    },
    {
     "data": {
      "text/plain": [
       "'la vérité si je men 3 comedi eddi dov yvan et le autr no chaleureux ami ont migré du sentier moribond à la banlieu florissant daubervilli là où le vieux entrepreneur juif ont laissé le terrain à de jeun grossist chinoi courageux et dynamiqu la petit band est toujour aussi soudé solidair que lor de épisod précédent et la vie suit son cour au gré de petit évènement familiaux et de affair dov sembl toujour frivol eddi entrepren yvan transi karin désinvolt sandra résolu chochana naïv serg irrespons et mythoman quant à patrick il est amoureux et lheureus élue est loin dêtre facil daccè tout irait pour le mieux jusquà ce quun vent mauvai apport son lot dadversité compromett sérieusement la cohésion du group succomberontil sou lorag à la zizani ou bien une foi de plu à forc dentraid de ruse et dhabileté triompherontil de la crise avec panach le film manuel munz télégraph vertigo la vérité product franc françai'"
      ]
     },
     "execution_count": 4,
     "metadata": {},
     "output_type": "execute_result"
    }
   ],
   "source": [
    "# Visualización del registro con mayor cantidad de palabras\n",
    "word=df.label.str.split().str.len()\n",
    "print(\"Número de Palabras: \",word.max())\n",
    "df.label.iloc[word.idxmax()]"
   ]
  },
  {
   "cell_type": "code",
   "execution_count": 5,
   "metadata": {},
   "outputs": [
    {
     "name": "stdout",
     "output_type": "stream",
     "text": [
      "Número de Palabras:  3\n"
     ]
    },
    {
     "data": {
      "text/plain": [
       "'four day napl'"
      ]
     },
     "execution_count": 5,
     "metadata": {},
     "output_type": "execute_result"
    }
   ],
   "source": [
    "# Visualización del registro con menor cantidad de palabras\n",
    "print(\"Número de Palabras: \",word.min())\n",
    "df.label.iloc[word.idxmin()]"
   ]
  },
  {
   "cell_type": "code",
   "execution_count": 6,
   "metadata": {},
   "outputs": [],
   "source": [
    "cv=CountVectorizer(max_features=300,stop_words=\"english\")\n",
    "vector=cv.fit_transform(df.label).toarray()"
   ]
  },
  {
   "attachments": {},
   "cell_type": "markdown",
   "metadata": {},
   "source": [
    "* Al utilizar max_features=300, estoy seleccionando un número cercano al doble del máximo de palabras presentes en mis registros, que es de 160. Esta elección me permite capturar un rango más amplio de palabras relevantes en mis datos sin agregar un exceso de características irrelevantes. Al limitar el número de características a 300, puedo mantener un equilibrio entre la representatividad de las palabras seleccionadas y la eficiencia del modelo. Además, al eliminar las palabras comunes en inglés con stop_words=\"english\", estoy asegurando que las características restantes sean más significativas y relevantes para mi modelo, lo que puede mejorar la calidad de las predicciones y reducir el ruido en los resultados obtenidos."
   ]
  },
  {
   "cell_type": "code",
   "execution_count": 7,
   "metadata": {},
   "outputs": [
    {
     "name": "stdout",
     "output_type": "stream",
     "text": [
      "(21806, 300)\n"
     ]
    },
    {
     "data": {
      "text/plain": [
       "array([[0, 0, 0, ..., 0, 0, 0],\n",
       "       [0, 1, 0, ..., 0, 0, 0],\n",
       "       [0, 0, 0, ..., 0, 0, 0],\n",
       "       ...,\n",
       "       [0, 0, 0, ..., 0, 0, 0],\n",
       "       [0, 0, 0, ..., 0, 0, 0],\n",
       "       [1, 0, 0, ..., 0, 0, 0]], dtype=int64)"
      ]
     },
     "execution_count": 7,
     "metadata": {},
     "output_type": "execute_result"
    }
   ],
   "source": [
    "# Visualizando el array vector\n",
    "print(vector.shape)\n",
    "vector"
   ]
  },
  {
   "attachments": {},
   "cell_type": "markdown",
   "metadata": {},
   "source": [
    "### Matriz de Similitud"
   ]
  },
  {
   "cell_type": "code",
   "execution_count": 8,
   "metadata": {},
   "outputs": [],
   "source": [
    "similarity_score=cosine_similarity(vector)"
   ]
  },
  {
   "cell_type": "code",
   "execution_count": 9,
   "metadata": {},
   "outputs": [
    {
     "name": "stdout",
     "output_type": "stream",
     "text": [
      "(21806, 21806)\n"
     ]
    },
    {
     "data": {
      "text/plain": [
       "array([[1.        , 0.26490647, 0.32444284, ..., 0.31494489, 0.06131393,\n",
       "        0.35320863],\n",
       "       [0.26490647, 1.        , 0.22680461, ..., 0.22645541, 0.15430335,\n",
       "        0.25925926],\n",
       "       [0.32444284, 0.22680461, 1.        , ..., 0.2773501 , 0.06299408,\n",
       "        0.27216553],\n",
       "       ...,\n",
       "       [0.31494489, 0.22645541, 0.2773501 , ..., 1.        , 0.10482848,\n",
       "        0.26419797],\n",
       "       [0.06131393, 0.15430335, 0.06299408, ..., 0.10482848, 1.        ,\n",
       "        0.1028689 ],\n",
       "       [0.35320863, 0.25925926, 0.27216553, ..., 0.26419797, 0.1028689 ,\n",
       "        1.        ]])"
      ]
     },
     "execution_count": 9,
     "metadata": {},
     "output_type": "execute_result"
    }
   ],
   "source": [
    "# Visualizando el array similarity_score\n",
    "print(similarity_score.shape)\n",
    "similarity_score"
   ]
  },
  {
   "attachments": {},
   "cell_type": "markdown",
   "metadata": {},
   "source": [
    "* Crearemos una función que se utilizará para indexar las películas más similares a una película específica en el conjunto de datos. Dado un título de película, la función encuentra su índice correspondiente en el conjunto de datos y utiliza la matriz de similitud previamente calculada, para determinar los 5 elementos más similares a la película de referencia. La función devuelve una lista de índices correspondientes a las películas más similares en orden descendente, lo que permite utilizar esta información para hacer recomendaciones personalizadas en el endpoint 7 de la API de manera más rápida, eficiente y efectiva."
   ]
  },
  {
   "cell_type": "code",
   "execution_count": 11,
   "metadata": {},
   "outputs": [],
   "source": [
    "def index_movie(titulo:str):\n",
    "    index=df[df.title==titulo].index[0]\n",
    "    score=list(enumerate(similarity_score[index]))\n",
    "    score=sorted(score,key=lambda x: x[1],reverse=True)\n",
    "    # El índice 0 siempre corresponde a la misma película, por lo cual, no se considera\n",
    "    score=score[1:6]\n",
    "    return [i[0] for i in score]"
   ]
  },
  {
   "cell_type": "code",
   "execution_count": 12,
   "metadata": {},
   "outputs": [
    {
     "data": {
      "text/html": [
       "<div>\n",
       "<style scoped>\n",
       "    .dataframe tbody tr th:only-of-type {\n",
       "        vertical-align: middle;\n",
       "    }\n",
       "\n",
       "    .dataframe tbody tr th {\n",
       "        vertical-align: top;\n",
       "    }\n",
       "\n",
       "    .dataframe thead th {\n",
       "        text-align: right;\n",
       "    }\n",
       "</style>\n",
       "<table border=\"1\" class=\"dataframe\">\n",
       "  <thead>\n",
       "    <tr style=\"text-align: right;\">\n",
       "      <th></th>\n",
       "      <th>title</th>\n",
       "      <th>label</th>\n",
       "      <th>index_movie</th>\n",
       "    </tr>\n",
       "  </thead>\n",
       "  <tbody>\n",
       "    <tr>\n",
       "      <th>0</th>\n",
       "      <td>toy story</td>\n",
       "      <td>toy stori anim comedi famili led woodi andi to...</td>\n",
       "      <td>[17812, 2283, 1688, 8219, 13162]</td>\n",
       "    </tr>\n",
       "    <tr>\n",
       "      <th>1</th>\n",
       "      <td>jumanji</td>\n",
       "      <td>jumanji adventur fantasi famili sibl judi pete...</td>\n",
       "      <td>[13017, 12980, 20081, 4657, 5986]</td>\n",
       "    </tr>\n",
       "    <tr>\n",
       "      <th>2</th>\n",
       "      <td>grumpier old men</td>\n",
       "      <td>grumpier old men romanc comedi famili wed reig...</td>\n",
       "      <td>[2528, 1046, 11560, 1152, 11757]</td>\n",
       "    </tr>\n",
       "    <tr>\n",
       "      <th>3</th>\n",
       "      <td>waiting to exhale</td>\n",
       "      <td>wait exhal comedi drama romanc cheat mistreat ...</td>\n",
       "      <td>[1344, 10599, 6372, 1302, 519]</td>\n",
       "    </tr>\n",
       "    <tr>\n",
       "      <th>4</th>\n",
       "      <td>father of the bride part ii</td>\n",
       "      <td>father bride part ii comedi just georg bank re...</td>\n",
       "      <td>[5094, 7700, 18832, 9348, 7619]</td>\n",
       "    </tr>\n",
       "    <tr>\n",
       "      <th>...</th>\n",
       "      <td>...</td>\n",
       "      <td>...</td>\n",
       "      <td>...</td>\n",
       "    </tr>\n",
       "    <tr>\n",
       "      <th>21801</th>\n",
       "      <td>the sublet</td>\n",
       "      <td>sublet mysteri drama thriller horror sublet su...</td>\n",
       "      <td>[3294, 14645, 9843, 16550, 20204]</td>\n",
       "    </tr>\n",
       "    <tr>\n",
       "      <th>21802</th>\n",
       "      <td>cadet kelly</td>\n",
       "      <td>cadet kelli comedi hyperact teenag kelli enrol...</td>\n",
       "      <td>[3193, 21371, 1412, 7318, 17684]</td>\n",
       "    </tr>\n",
       "    <tr>\n",
       "      <th>21803</th>\n",
       "      <td>pooh's heffalump halloween movie</td>\n",
       "      <td>pooh heffalump halloween movi anim famili hall...</td>\n",
       "      <td>[13748, 721, 2926, 17247, 1516]</td>\n",
       "    </tr>\n",
       "    <tr>\n",
       "      <th>21804</th>\n",
       "      <td>mom</td>\n",
       "      <td>mom crime drama thriller bliss biolog teacher ...</td>\n",
       "      <td>[3946, 2760, 15756, 10395, 11753]</td>\n",
       "    </tr>\n",
       "    <tr>\n",
       "      <th>21805</th>\n",
       "      <td>robin hood</td>\n",
       "      <td>robin hood drama action romanc yet anoth versi...</td>\n",
       "      <td>[727, 2758, 290, 1477, 11971]</td>\n",
       "    </tr>\n",
       "  </tbody>\n",
       "</table>\n",
       "<p>21806 rows × 3 columns</p>\n",
       "</div>"
      ],
      "text/plain": [
       "                                  title  \\\n",
       "0                             toy story   \n",
       "1                               jumanji   \n",
       "2                      grumpier old men   \n",
       "3                     waiting to exhale   \n",
       "4           father of the bride part ii   \n",
       "...                                 ...   \n",
       "21801                        the sublet   \n",
       "21802                       cadet kelly   \n",
       "21803  pooh's heffalump halloween movie   \n",
       "21804                               mom   \n",
       "21805                        robin hood   \n",
       "\n",
       "                                                   label  \\\n",
       "0      toy stori anim comedi famili led woodi andi to...   \n",
       "1      jumanji adventur fantasi famili sibl judi pete...   \n",
       "2      grumpier old men romanc comedi famili wed reig...   \n",
       "3      wait exhal comedi drama romanc cheat mistreat ...   \n",
       "4      father bride part ii comedi just georg bank re...   \n",
       "...                                                  ...   \n",
       "21801  sublet mysteri drama thriller horror sublet su...   \n",
       "21802  cadet kelli comedi hyperact teenag kelli enrol...   \n",
       "21803  pooh heffalump halloween movi anim famili hall...   \n",
       "21804  mom crime drama thriller bliss biolog teacher ...   \n",
       "21805  robin hood drama action romanc yet anoth versi...   \n",
       "\n",
       "                             index_movie  \n",
       "0       [17812, 2283, 1688, 8219, 13162]  \n",
       "1      [13017, 12980, 20081, 4657, 5986]  \n",
       "2       [2528, 1046, 11560, 1152, 11757]  \n",
       "3         [1344, 10599, 6372, 1302, 519]  \n",
       "4        [5094, 7700, 18832, 9348, 7619]  \n",
       "...                                  ...  \n",
       "21801  [3294, 14645, 9843, 16550, 20204]  \n",
       "21802   [3193, 21371, 1412, 7318, 17684]  \n",
       "21803    [13748, 721, 2926, 17247, 1516]  \n",
       "21804  [3946, 2760, 15756, 10395, 11753]  \n",
       "21805      [727, 2758, 290, 1477, 11971]  \n",
       "\n",
       "[21806 rows x 3 columns]"
      ]
     },
     "execution_count": 12,
     "metadata": {},
     "output_type": "execute_result"
    }
   ],
   "source": [
    "df[\"index_movie\"]=df.title.apply(index_movie)\n",
    "df"
   ]
  },
  {
   "attachments": {},
   "cell_type": "markdown",
   "metadata": {},
   "source": [
    "### Exportación del df_movie para la realización del endpoint de ML (función 7)"
   ]
  },
  {
   "cell_type": "code",
   "execution_count": 16,
   "metadata": {},
   "outputs": [],
   "source": [
    "# La columna \"label\" ya no será necesaria\n",
    "df.drop(columns=[\"label\"]).to_csv(\"API_ML_movie.csv\",index=False)"
   ]
  }
 ],
 "metadata": {
  "kernelspec": {
   "display_name": "Python 3",
   "language": "python",
   "name": "python3"
  },
  "language_info": {
   "codemirror_mode": {
    "name": "ipython",
    "version": 3
   },
   "file_extension": ".py",
   "mimetype": "text/x-python",
   "name": "python",
   "nbconvert_exporter": "python",
   "pygments_lexer": "ipython3",
   "version": "3.9.2"
  },
  "orig_nbformat": 4
 },
 "nbformat": 4,
 "nbformat_minor": 2
}
